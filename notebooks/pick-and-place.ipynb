{
 "cells": [
  {
   "cell_type": "code",
   "execution_count": 1,
   "id": "initial_id",
   "metadata": {
    "collapsed": true,
    "ExecuteTime": {
     "end_time": "2024-05-27T13:23:19.392785Z",
     "start_time": "2024-05-27T13:23:17.613773Z"
    }
   },
   "outputs": [
    {
     "ename": "ModuleNotFoundError",
     "evalue": "No module named 'gymnasium'",
     "output_type": "error",
     "traceback": [
      "\u001B[0;31m---------------------------------------------------------------------------\u001B[0m",
      "\u001B[0;31mModuleNotFoundError\u001B[0m                       Traceback (most recent call last)",
      "Cell \u001B[0;32mIn[1], line 2\u001B[0m\n\u001B[1;32m      1\u001B[0m \u001B[38;5;28;01mimport\u001B[39;00m \u001B[38;5;21;01mtorch\u001B[39;00m\n\u001B[0;32m----> 2\u001B[0m \u001B[38;5;28;01mimport\u001B[39;00m \u001B[38;5;21;01mgymnasium\u001B[39;00m \u001B[38;5;28;01mas\u001B[39;00m \u001B[38;5;21;01mgym\u001B[39;00m\n",
      "\u001B[0;31mModuleNotFoundError\u001B[0m: No module named 'gymnasium'"
     ]
    }
   ],
   "source": [
    "import torch\n",
    "import gymnasium as gym"
   ]
  },
  {
   "cell_type": "markdown",
   "source": [],
   "metadata": {
    "collapsed": false
   },
   "id": "4d8c1acdd979124"
  },
  {
   "cell_type": "code",
   "outputs": [
    {
     "ename": "NameError",
     "evalue": "name 'gym' is not defined",
     "output_type": "error",
     "traceback": [
      "\u001B[0;31m---------------------------------------------------------------------------\u001B[0m",
      "\u001B[0;31mNameError\u001B[0m                                 Traceback (most recent call last)",
      "Cell \u001B[0;32mIn[2], line 1\u001B[0m\n\u001B[0;32m----> 1\u001B[0m env \u001B[38;5;241m=\u001B[39m \u001B[43mgym\u001B[49m\u001B[38;5;241m.\u001B[39mmake(\u001B[38;5;124m\"\u001B[39m\u001B[38;5;124mFetchPickAndPlace-v2\u001B[39m\u001B[38;5;124m\"\u001B[39m, render_mode\u001B[38;5;241m=\u001B[39m\u001B[38;5;124m\"\u001B[39m\u001B[38;5;124mhuman\u001B[39m\u001B[38;5;124m\"\u001B[39m)\n\u001B[1;32m      2\u001B[0m observation, info \u001B[38;5;241m=\u001B[39m env\u001B[38;5;241m.\u001B[39mreset(seed\u001B[38;5;241m=\u001B[39m\u001B[38;5;241m42\u001B[39m)\n",
      "\u001B[0;31mNameError\u001B[0m: name 'gym' is not defined"
     ]
    }
   ],
   "source": [
    "env = gym.make(\"FetchPickAndPlace-v2\", render_mode=\"human\")\n",
    "observation, info = env.reset(seed=42)"
   ],
   "metadata": {
    "collapsed": false,
    "ExecuteTime": {
     "end_time": "2024-05-27T13:22:24.605868Z",
     "start_time": "2024-05-27T13:22:24.583402Z"
    }
   },
   "id": "6bf1d17487570fff",
   "execution_count": 2
  },
  {
   "cell_type": "code",
   "outputs": [
    {
     "data": {
      "text/plain": "({'observation': array([ 1.34195486e+00,  7.49100497e-01,  5.34707205e-01,  1.29316932e+00,\n          8.59337370e-01,  4.24702091e-01, -4.87855396e-02,  1.10236874e-01,\n         -1.10005114e-01,  3.18450068e-06, -4.96835828e-08, -8.82449685e-08,\n          1.35761490e-07,  3.79229634e-15,  3.25141132e-06, -1.43639066e-08,\n          4.16619734e-05,  5.03907166e-08, -7.75241793e-08, -5.21258038e-19,\n         -3.25334641e-06,  1.31060963e-08,  5.16579228e-06,  5.26339189e-07,\n          1.75358425e-07]),\n  'achieved_goal': array([1.29316932, 0.85933737, 0.42470209]),\n  'desired_goal': array([1.41063979, 0.76270817, 0.55423038])},\n {})"
     },
     "execution_count": 19,
     "metadata": {},
     "output_type": "execute_result"
    }
   ],
   "source": [
    "env.reset()"
   ],
   "metadata": {
    "collapsed": false,
    "ExecuteTime": {
     "end_time": "2024-05-12T15:02:41.927202Z",
     "start_time": "2024-05-12T15:02:41.920860Z"
    }
   },
   "id": "ebfeec0c651fd329",
   "execution_count": 19
  },
  {
   "cell_type": "code",
   "outputs": [],
   "source": [
    "obs, reward, terminated, truncated, reward = env.step(torch.rand((4,)).numpy())"
   ],
   "metadata": {
    "collapsed": false,
    "ExecuteTime": {
     "end_time": "2024-05-12T14:57:12.847894Z",
     "start_time": "2024-05-12T14:57:12.837922Z"
    }
   },
   "id": "41bd1072dcc1ca48",
   "execution_count": 11
  },
  {
   "cell_type": "code",
   "outputs": [
    {
     "data": {
      "text/plain": "{'observation': array([ 1.36104780e+00,  7.52815691e-01,  5.39061201e-01,  1.35546105e+00,\n         8.78291524e-01,  4.24736048e-01, -5.58675556e-03,  1.25475833e-01,\n        -1.14325153e-01,  4.05917850e-02,  4.08195992e-02, -5.18150577e-08,\n         7.97154734e-08, -1.34335880e-16, -1.74819235e-02, -3.29107815e-03,\n        -3.92154285e-03,  2.85323085e-08, -4.38958592e-08, -1.65016327e-18,\n         1.74819224e-02,  3.29107744e-03,  3.94820841e-03,  7.03393004e-02,\n         7.04514153e-02]),\n 'achieved_goal': array([1.35546105, 0.87829152, 0.42473605]),\n 'desired_goal': array([1.28540845, 0.87932438, 0.58885718])}"
     },
     "execution_count": 16,
     "metadata": {},
     "output_type": "execute_result"
    }
   ],
   "source": [
    "obs"
   ],
   "metadata": {
    "collapsed": false,
    "ExecuteTime": {
     "end_time": "2024-05-12T15:00:36.962317Z",
     "start_time": "2024-05-12T15:00:36.958086Z"
    }
   },
   "id": "aec60126c2e1a329",
   "execution_count": 16
  },
  {
   "cell_type": "code",
   "outputs": [],
   "source": [],
   "metadata": {
    "collapsed": false
   },
   "id": "f8a0d998a14bb6b3"
  }
 ],
 "metadata": {
  "kernelspec": {
   "display_name": "Python 3",
   "language": "python",
   "name": "python3"
  },
  "language_info": {
   "codemirror_mode": {
    "name": "ipython",
    "version": 2
   },
   "file_extension": ".py",
   "mimetype": "text/x-python",
   "name": "python",
   "nbconvert_exporter": "python",
   "pygments_lexer": "ipython2",
   "version": "2.7.6"
  }
 },
 "nbformat": 4,
 "nbformat_minor": 5
}
